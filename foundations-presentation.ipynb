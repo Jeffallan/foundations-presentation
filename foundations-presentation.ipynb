{
 "cells": [
  {
   "cell_type": "markdown",
   "metadata": {},
   "source": [
    "# Demonstrating Technique Progagation and Attack Automation\n",
    "\n",
    "## Presented By: Jeff Smolinski\n",
    "\n",
    "## For: Foundations Of Cybersecurity Spring 2020\n",
    "\n",
    "### [About the Presenter](https://jeffallan.github.io)"
   ]
  },
  {
   "cell_type": "markdown",
   "metadata": {},
   "source": [
    "\n",
    "\n",
    "## Purpose\n",
    "\n",
    "- To demonstrate the ease at which exploitation techniques can be researched and executed while introducing some common security tools.\n",
    "\n",
    "## Goals\n",
    "\n",
    "1. Introduce Hackthebox; a popular online pentesting lab.\n",
    "\n",
    "2. Introduce the tools `nmap` and `metasploit`.\n",
    "\n",
    "3. Introduce exploit-db; a vulnerability database.\n",
    "\n",
    "4. Provide additional resources for self study\n"
   ]
  },
  {
   "cell_type": "markdown",
   "metadata": {},
   "source": [
    "## Our Target\n",
    "\n",
    "![blue](./images/blue.png \"Logo Title Text 1\")\n",
    "\n",
    "## Goals\n",
    "\n",
    "- Find the user flag (user.txt) and the administrator flag (root.txt)\n",
    "- On Windows boxes these appear in the user' and administrator's desktop folders respectfully.\n"
   ]
  },
  {
   "cell_type": "markdown",
   "metadata": {},
   "source": [
    "## Info Gathering\n",
    "\n",
    "- The first step to a successful exploit is information gathering.\n",
    "\n",
    "- Generally, the more information you have the more successful you will be.\n",
    "\n",
    "## NMAP\n",
    "\n",
    "- `nmap` is a popular scanning tool\n",
    "\n",
    "- features include port scanning, operating system and service detection, and vulnerability scanning.\n",
    "\n",
    "`nmap -A -v 10.10.10.40 --script vuln --max-retries=1 | tee ~/infosec/htb/boxes/owned/blue/scan.txt`\n",
    "\n",
    "![nmap vuln scan](./images/nmap-vuln.png)"
   ]
  },
  {
   "cell_type": "markdown",
   "metadata": {},
   "source": [
    "## Searching for Exploits\n",
    "\n",
    "### Exploit DB\n",
    "\n",
    "#### Search By Exploit\n",
    "![exploit db advanced search](./images/exploitdb-advanced-search.png)\n",
    "\n",
    "#### Results\n",
    "![exploit db results](./images/exploit-db-results.png)"
   ]
  },
  {
   "cell_type": "markdown",
   "metadata": {},
   "source": [
    "## Metasploit\n",
    "\n",
    "`msfconsole`\n",
    "\n",
    "### Basic commands\n",
    "\n",
    "`help`\n",
    "\n",
    "`search`\n",
    "\n",
    "`use`\n",
    "\n",
    "`show`\n",
    "\n",
    "`set`\n",
    "\n",
    "`run`\n",
    "\n",
    "![metasploit settings](./images/metasploit-options.png)"
   ]
  },
  {
   "cell_type": "markdown",
   "metadata": {},
   "source": [
    "## Getting a shell\n",
    "\n",
    "- On a successful exploit you will be presented with a prompt like this:\n",
    "![metasploit prompt](./images/meterperter-shell.png)\n",
    "- Navigate to C:\\Users with `cd C:/Users`:\n",
    "![metasploit cd](./images/meterperter-cd.png)\n",
    "- You can \"catpture\" the flag using the `cat` command:\n",
    "![flags](./images/flags.png)\n",
    "This box does not require any special priviledge escilation techniques, but most boxes on Hackthebox do\n",
    "\n",
    "### Bonus Module Hashdump\n",
    "\n",
    "- After an intial exploitation you can use additional modules: `run post/windows/gather/hashdump` \n",
    "![hashdump](./images/hash-dump.png)"
   ]
  },
  {
   "cell_type": "markdown",
   "metadata": {},
   "source": [
    "# Resources\n",
    "\n",
    "## NMAP\n",
    "- [documentation](https://nmap.org/docs.html)\n",
    "- [port scanning](https://nmap.org/book/man-port-scanning-basics.html)\n",
    "- [scripts](https://nmap.org/book/man-nse.html)\n",
    "\n",
    "## Metasploit\n",
    "- [docs](https://metasploit.help.rapid7.com/docs)\n",
    "- [overview](https://www.offensive-security.com/metasploit-unleashed/)\n",
    "- [metasploit console commands](https://www.offensive-security.com/metasploit-unleashed/msfconsole-commands/)\n",
    "- [meteterpreter](https://www.offensive-security.com/metasploit-unleashed/meterpreter-basics/)\n",
    "\n",
    "## Hack the Box\n",
    "- [site link](https://www.hackthebox.eu/)\n",
    "- [the machine featured in this presentation](https://www.hackthebox.eu/home/machines/profile/51)\n",
    "- [great walkthroughs](https://www.youtube.com/channel/UCa6eh7gCkpPo5XXUDfygQQA)\n",
    "- [useful skills](https://medium.com/bug-bounty-hunting/beginner-tips-to-own-boxes-at-hackthebox-9ae3fec92a96)\n",
    "\n",
    "## CVE Research\n",
    "- [exploit db](https://www.exploit-db.com/)"
   ]
  }
 ],
 "metadata": {
  "hide_input": false,
  "kernelspec": {
   "display_name": "Python 3",
   "language": "python",
   "name": "python3"
  },
  "language_info": {
   "codemirror_mode": {
    "name": "ipython",
    "version": 3
   },
   "file_extension": ".py",
   "mimetype": "text/x-python",
   "name": "python",
   "nbconvert_exporter": "python",
   "pygments_lexer": "ipython3",
   "version": "3.7.5"
  }
 },
 "nbformat": 4,
 "nbformat_minor": 4
}
